{
  "nbformat": 4,
  "nbformat_minor": 0,
  "metadata": {
    "colab": {
      "provenance": []
    },
    "kernelspec": {
      "name": "python3",
      "display_name": "Python 3"
    },
    "language_info": {
      "name": "python"
    }
  },
  "cells": [
    {
      "cell_type": "code",
      "source": [
        "from google.colab import files\n",
        "uploaded = files.upload()\n",
        "\n",
        "# Load the disease database\n",
        "import pandas as pd\n",
        "\n",
        "# Assuming the uploaded file name is 'Genki_DB - Sheet1.csv'\n",
        "file_path = 'Genki_DB - Sheet1.csv'\n",
        "df = pd.read_csv(file_path)\n",
        "\n",
        "# Display the first few rows of the dataframe to understand its structure\n",
        "df.head()\n",
        "\n",
        "# Function to get user symptoms\n",
        "def get_user_symptoms():\n",
        "    symptoms = input(\"What are your symptoms? (separate with commas): \").split(',')\n",
        "    symptoms = [symptom.strip().lower() for symptom in symptoms]\n",
        "    return symptoms\n",
        "\n",
        "# Test the function\n",
        "user_symptoms = get_user_symptoms()\n",
        "print(\"User Symptoms:\", user_symptoms)\n",
        "\n",
        "# Preprocess the symptoms in the database\n",
        "df['Symptom 1'] = df['Symptom 1'].astype(str).apply(lambda x: x.lower().split(','))\n",
        "\n",
        "# Function to match symptoms\n",
        "def match_symptoms(user_symptoms, df):\n",
        "    matched_diseases = df[df['Symptom 1'].apply(lambda x: any(symptom in x for symptom in user_symptoms))]\n",
        "    return matched_diseases\n",
        "\n",
        "# Test the function\n",
        "matched_diseases = match_symptoms(user_symptoms, df)\n",
        "matched_diseases\n",
        "\n",
        "# Function to rank diseases\n",
        "def rank_diseases(matched_diseases, user_symptoms):\n",
        "    matched_diseases['Score'] = matched_diseases['Symptom 1'].apply(lambda x: sum(1 for symptom in user_symptoms if symptom in x))\n",
        "    ranked_diseases = matched_diseases.sort_values(by='Score', ascending=False)\n",
        "    return ranked_diseases\n",
        "\n",
        "# Simulate user feedback\n",
        "def get_user_feedback(ranked_diseases):\n",
        "    for index, row in ranked_diseases.iterrows():\n",
        "        print(f\"Disease: {row['Disease Name']}\")\n",
        "        print(f\"Symptoms: {row['Symptom 1']}\")\n",
        "        feedback = input(\"Do you have these symptoms? (yes/no/maybe): \")\n",
        "        if feedback == 'yes':\n",
        "            row['Score'] += 1\n",
        "        elif feedback == 'no':\n",
        "            row['Score'] -= 1\n",
        "    return ranked_diseases\n",
        "\n",
        "# Test the function\n",
        "ranked_diseases = rank_diseases(matched_diseases, user_symptoms)\n",
        "ranked_diseases = get_user_feedback(ranked_diseases)\n",
        "ranked_diseases\n",
        "\n",
        "# Function to display results\n",
        "def display_results(ranked_diseases):\n",
        "    print(\"Final Results:\")\n",
        "    for index, row in ranked_diseases.iterrows():\n",
        "        print(f\"Disease: {row['Disease']} - Probability Score: {row['Score']}\")\n",
        "\n",
        "# Test the function\n",
        "display_results(ranked_diseases)\n"
      ],
      "metadata": {
        "colab": {
          "base_uri": "https://localhost:8080/",
          "height": 386
        },
        "id": "vKfXWpZwHtbw",
        "outputId": "958793ef-aebe-485c-fb2f-77b02e2af95a"
      },
      "execution_count": null,
      "outputs": [
        {
          "data": {
            "text/html": [
              "\n",
              "     <input type=\"file\" id=\"files-0b374c9d-535a-40be-8d20-fdb159c89966\" name=\"files[]\" multiple disabled\n",
              "        style=\"border:none\" />\n",
              "     <output id=\"result-0b374c9d-535a-40be-8d20-fdb159c89966\">\n",
              "      Upload widget is only available when the cell has been executed in the\n",
              "      current browser session. Please rerun this cell to enable.\n",
              "      </output>\n",
              "      <script>// Copyright 2017 Google LLC\n",
              "//\n",
              "// Licensed under the Apache License, Version 2.0 (the \"License\");\n",
              "// you may not use this file except in compliance with the License.\n",
              "// You may obtain a copy of the License at\n",
              "//\n",
              "//      http://www.apache.org/licenses/LICENSE-2.0\n",
              "//\n",
              "// Unless required by applicable law or agreed to in writing, software\n",
              "// distributed under the License is distributed on an \"AS IS\" BASIS,\n",
              "// WITHOUT WARRANTIES OR CONDITIONS OF ANY KIND, either express or implied.\n",
              "// See the License for the specific language governing permissions and\n",
              "// limitations under the License.\n",
              "\n",
              "/**\n",
              " * @fileoverview Helpers for google.colab Python module.\n",
              " */\n",
              "(function(scope) {\n",
              "function span(text, styleAttributes = {}) {\n",
              "  const element = document.createElement('span');\n",
              "  element.textContent = text;\n",
              "  for (const key of Object.keys(styleAttributes)) {\n",
              "    element.style[key] = styleAttributes[key];\n",
              "  }\n",
              "  return element;\n",
              "}\n",
              "\n",
              "// Max number of bytes which will be uploaded at a time.\n",
              "const MAX_PAYLOAD_SIZE = 100 * 1024;\n",
              "\n",
              "function _uploadFiles(inputId, outputId) {\n",
              "  const steps = uploadFilesStep(inputId, outputId);\n",
              "  const outputElement = document.getElementById(outputId);\n",
              "  // Cache steps on the outputElement to make it available for the next call\n",
              "  // to uploadFilesContinue from Python.\n",
              "  outputElement.steps = steps;\n",
              "\n",
              "  return _uploadFilesContinue(outputId);\n",
              "}\n",
              "\n",
              "// This is roughly an async generator (not supported in the browser yet),\n",
              "// where there are multiple asynchronous steps and the Python side is going\n",
              "// to poll for completion of each step.\n",
              "// This uses a Promise to block the python side on completion of each step,\n",
              "// then passes the result of the previous step as the input to the next step.\n",
              "function _uploadFilesContinue(outputId) {\n",
              "  const outputElement = document.getElementById(outputId);\n",
              "  const steps = outputElement.steps;\n",
              "\n",
              "  const next = steps.next(outputElement.lastPromiseValue);\n",
              "  return Promise.resolve(next.value.promise).then((value) => {\n",
              "    // Cache the last promise value to make it available to the next\n",
              "    // step of the generator.\n",
              "    outputElement.lastPromiseValue = value;\n",
              "    return next.value.response;\n",
              "  });\n",
              "}\n",
              "\n",
              "/**\n",
              " * Generator function which is called between each async step of the upload\n",
              " * process.\n",
              " * @param {string} inputId Element ID of the input file picker element.\n",
              " * @param {string} outputId Element ID of the output display.\n",
              " * @return {!Iterable<!Object>} Iterable of next steps.\n",
              " */\n",
              "function* uploadFilesStep(inputId, outputId) {\n",
              "  const inputElement = document.getElementById(inputId);\n",
              "  inputElement.disabled = false;\n",
              "\n",
              "  const outputElement = document.getElementById(outputId);\n",
              "  outputElement.innerHTML = '';\n",
              "\n",
              "  const pickedPromise = new Promise((resolve) => {\n",
              "    inputElement.addEventListener('change', (e) => {\n",
              "      resolve(e.target.files);\n",
              "    });\n",
              "  });\n",
              "\n",
              "  const cancel = document.createElement('button');\n",
              "  inputElement.parentElement.appendChild(cancel);\n",
              "  cancel.textContent = 'Cancel upload';\n",
              "  const cancelPromise = new Promise((resolve) => {\n",
              "    cancel.onclick = () => {\n",
              "      resolve(null);\n",
              "    };\n",
              "  });\n",
              "\n",
              "  // Wait for the user to pick the files.\n",
              "  const files = yield {\n",
              "    promise: Promise.race([pickedPromise, cancelPromise]),\n",
              "    response: {\n",
              "      action: 'starting',\n",
              "    }\n",
              "  };\n",
              "\n",
              "  cancel.remove();\n",
              "\n",
              "  // Disable the input element since further picks are not allowed.\n",
              "  inputElement.disabled = true;\n",
              "\n",
              "  if (!files) {\n",
              "    return {\n",
              "      response: {\n",
              "        action: 'complete',\n",
              "      }\n",
              "    };\n",
              "  }\n",
              "\n",
              "  for (const file of files) {\n",
              "    const li = document.createElement('li');\n",
              "    li.append(span(file.name, {fontWeight: 'bold'}));\n",
              "    li.append(span(\n",
              "        `(${file.type || 'n/a'}) - ${file.size} bytes, ` +\n",
              "        `last modified: ${\n",
              "            file.lastModifiedDate ? file.lastModifiedDate.toLocaleDateString() :\n",
              "                                    'n/a'} - `));\n",
              "    const percent = span('0% done');\n",
              "    li.appendChild(percent);\n",
              "\n",
              "    outputElement.appendChild(li);\n",
              "\n",
              "    const fileDataPromise = new Promise((resolve) => {\n",
              "      const reader = new FileReader();\n",
              "      reader.onload = (e) => {\n",
              "        resolve(e.target.result);\n",
              "      };\n",
              "      reader.readAsArrayBuffer(file);\n",
              "    });\n",
              "    // Wait for the data to be ready.\n",
              "    let fileData = yield {\n",
              "      promise: fileDataPromise,\n",
              "      response: {\n",
              "        action: 'continue',\n",
              "      }\n",
              "    };\n",
              "\n",
              "    // Use a chunked sending to avoid message size limits. See b/62115660.\n",
              "    let position = 0;\n",
              "    do {\n",
              "      const length = Math.min(fileData.byteLength - position, MAX_PAYLOAD_SIZE);\n",
              "      const chunk = new Uint8Array(fileData, position, length);\n",
              "      position += length;\n",
              "\n",
              "      const base64 = btoa(String.fromCharCode.apply(null, chunk));\n",
              "      yield {\n",
              "        response: {\n",
              "          action: 'append',\n",
              "          file: file.name,\n",
              "          data: base64,\n",
              "        },\n",
              "      };\n",
              "\n",
              "      let percentDone = fileData.byteLength === 0 ?\n",
              "          100 :\n",
              "          Math.round((position / fileData.byteLength) * 100);\n",
              "      percent.textContent = `${percentDone}% done`;\n",
              "\n",
              "    } while (position < fileData.byteLength);\n",
              "  }\n",
              "\n",
              "  // All done.\n",
              "  yield {\n",
              "    response: {\n",
              "      action: 'complete',\n",
              "    }\n",
              "  };\n",
              "}\n",
              "\n",
              "scope.google = scope.google || {};\n",
              "scope.google.colab = scope.google.colab || {};\n",
              "scope.google.colab._files = {\n",
              "  _uploadFiles,\n",
              "  _uploadFilesContinue,\n",
              "};\n",
              "})(self);\n",
              "</script> "
            ],
            "text/plain": [
              "<IPython.core.display.HTML object>"
            ]
          },
          "metadata": {},
          "output_type": "display_data"
        },
        {
          "ename": "TypeError",
          "evalue": "'NoneType' object is not subscriptable",
          "output_type": "error",
          "traceback": [
            "\u001b[0;31m---------------------------------------------------------------------------\u001b[0m",
            "\u001b[0;31mTypeError\u001b[0m                                 Traceback (most recent call last)",
            "\u001b[0;32m<ipython-input-2-9e2d770784a6>\u001b[0m in \u001b[0;36m<cell line: 2>\u001b[0;34m()\u001b[0m\n\u001b[1;32m      1\u001b[0m \u001b[0;32mfrom\u001b[0m \u001b[0mgoogle\u001b[0m\u001b[0;34m.\u001b[0m\u001b[0mcolab\u001b[0m \u001b[0;32mimport\u001b[0m \u001b[0mfiles\u001b[0m\u001b[0;34m\u001b[0m\u001b[0;34m\u001b[0m\u001b[0m\n\u001b[0;32m----> 2\u001b[0;31m \u001b[0muploaded\u001b[0m \u001b[0;34m=\u001b[0m \u001b[0mfiles\u001b[0m\u001b[0;34m.\u001b[0m\u001b[0mupload\u001b[0m\u001b[0;34m(\u001b[0m\u001b[0;34m)\u001b[0m\u001b[0;34m\u001b[0m\u001b[0;34m\u001b[0m\u001b[0m\n\u001b[0m\u001b[1;32m      3\u001b[0m \u001b[0;34m\u001b[0m\u001b[0m\n\u001b[1;32m      4\u001b[0m \u001b[0;31m# Load the disease database\u001b[0m\u001b[0;34m\u001b[0m\u001b[0;34m\u001b[0m\u001b[0m\n\u001b[1;32m      5\u001b[0m \u001b[0;32mimport\u001b[0m \u001b[0mpandas\u001b[0m \u001b[0;32mas\u001b[0m \u001b[0mpd\u001b[0m\u001b[0;34m\u001b[0m\u001b[0;34m\u001b[0m\u001b[0m\n",
            "\u001b[0;32m/usr/local/lib/python3.10/dist-packages/google/colab/files.py\u001b[0m in \u001b[0;36mupload\u001b[0;34m()\u001b[0m\n\u001b[1;32m     67\u001b[0m   \"\"\"\n\u001b[1;32m     68\u001b[0m \u001b[0;34m\u001b[0m\u001b[0m\n\u001b[0;32m---> 69\u001b[0;31m   \u001b[0muploaded_files\u001b[0m \u001b[0;34m=\u001b[0m \u001b[0m_upload_files\u001b[0m\u001b[0;34m(\u001b[0m\u001b[0mmultiple\u001b[0m\u001b[0;34m=\u001b[0m\u001b[0;32mTrue\u001b[0m\u001b[0;34m)\u001b[0m\u001b[0;34m\u001b[0m\u001b[0;34m\u001b[0m\u001b[0m\n\u001b[0m\u001b[1;32m     70\u001b[0m   \u001b[0;31m# Mapping from original filename to filename as saved locally.\u001b[0m\u001b[0;34m\u001b[0m\u001b[0;34m\u001b[0m\u001b[0m\n\u001b[1;32m     71\u001b[0m   \u001b[0mlocal_filenames\u001b[0m \u001b[0;34m=\u001b[0m \u001b[0mdict\u001b[0m\u001b[0;34m(\u001b[0m\u001b[0;34m)\u001b[0m\u001b[0;34m\u001b[0m\u001b[0;34m\u001b[0m\u001b[0m\n",
            "\u001b[0;32m/usr/local/lib/python3.10/dist-packages/google/colab/files.py\u001b[0m in \u001b[0;36m_upload_files\u001b[0;34m(multiple)\u001b[0m\n\u001b[1;32m    161\u001b[0m   \u001b[0mfiles\u001b[0m \u001b[0;34m=\u001b[0m \u001b[0m_collections\u001b[0m\u001b[0;34m.\u001b[0m\u001b[0mdefaultdict\u001b[0m\u001b[0;34m(\u001b[0m\u001b[0mbytes\u001b[0m\u001b[0;34m)\u001b[0m\u001b[0;34m\u001b[0m\u001b[0;34m\u001b[0m\u001b[0m\n\u001b[1;32m    162\u001b[0m \u001b[0;34m\u001b[0m\u001b[0m\n\u001b[0;32m--> 163\u001b[0;31m   \u001b[0;32mwhile\u001b[0m \u001b[0mresult\u001b[0m\u001b[0;34m[\u001b[0m\u001b[0;34m'action'\u001b[0m\u001b[0;34m]\u001b[0m \u001b[0;34m!=\u001b[0m \u001b[0;34m'complete'\u001b[0m\u001b[0;34m:\u001b[0m\u001b[0;34m\u001b[0m\u001b[0;34m\u001b[0m\u001b[0m\n\u001b[0m\u001b[1;32m    164\u001b[0m     result = _output.eval_js(\n\u001b[1;32m    165\u001b[0m         'google.colab._files._uploadFilesContinue(\"{output_id}\")'.format(\n",
            "\u001b[0;31mTypeError\u001b[0m: 'NoneType' object is not subscriptable"
          ]
        }
      ]
    },
    {
      "cell_type": "code",
      "source": [
        "# Load the disease database\n",
        "import pandas as pd\n",
        "\n",
        "# Assuming the uploaded file name is 'Genki_DB - Sheet1.csv'\n",
        "file_path = '/Genki_DB - Sheet1.csv'\n",
        "df = pd.read_csv(file_path)\n",
        "\n",
        "# Display the first few rows of the dataframe to understand its structure\n",
        "df.head()\n",
        "\n",
        "# Preprocess the symptoms in the database, handling potential float values\n",
        "for col in df.columns:\n",
        "    if 'Symptom' in col:\n",
        "        df[col] = df[col].astype(str).apply(lambda x: x.lower().split(',') if x != 'nan' else [])\n",
        "\n",
        "# Function to get user symptoms\n",
        "def get_user_symptoms():\n",
        "    symptoms = input(\"What are your symptoms? (separate with commas): \").split(',')\n",
        "    symptoms = [symptom.strip().lower() for symptom in symptoms]\n",
        "    return symptoms\n",
        "\n",
        "# Function to match symptoms\n",
        "def match_symptoms(user_symptoms, df):\n",
        "    matched_diseases = df[df.apply(lambda row: any(symptom in row[col] for symptom in user_symptoms for col in df.columns if 'Symptom' in col), axis=1)]\n",
        "    return matched_diseases\n",
        "\n",
        "# Function to rank diseases\n",
        "def rank_diseases(matched_diseases, user_symptoms):\n",
        "    matched_diseases['Score'] = matched_diseases.apply(lambda row: sum(1 for symptom in user_symptoms if any(symptom in row[col] for col in df.columns if 'Symptom' in col)), axis=1)\n",
        "    # Ensure 'Score' is a numeric column for sorting\n",
        "    matched_diseases['Score'] = pd.to_numeric(matched_diseases['Score']) # This line converts the 'Score' column to numeric type if it's not. This is important for sorting.\n",
        "    ranked_diseases = matched_diseases.sort_values(by='Score', ascending=False)\n",
        "    return ranked_diseases\n",
        "\n",
        "# Simulate user feedback\n",
        "def get_user_feedback(ranked_diseases):\n",
        "    for index, row in ranked_diseases.iterrows():\n",
        "        print(f\"Disease: {row['Disease Name']}\")\n",
        "         # Print all symptoms from all columns\n",
        "        symptoms = [symptom for col in df.columns if 'Symptom' in col for symptom in row[col]]\n",
        "        print(f\"Symptoms: {symptoms}\")\n",
        "        feedback = input(\"Do you have these symptoms? (yes/no/maybe): \")\n",
        "        if feedback == 'yes':\n",
        "            row['Score'] += 1\n",
        "        elif feedback == 'no':\n",
        "            row['Score'] -= 1\n",
        "    return ranked_diseases\n",
        "\n",
        "# Function to display results\n",
        "def display_results(ranked_diseases):\n",
        "    print(\"Final Results:\")\n",
        "    for index, row in ranked_diseases.iterrows():\n",
        "        print(f\"Disease: {row['Disease Name']} - Probability Score: {row['Score']}\")\n",
        "\n",
        "# Main function\n",
        "def main():\n",
        "    user_symptoms = get_user_symptoms()\n",
        "    matched_diseases = match_symptoms(user_symptoms, df)\n",
        "    ranked_diseases = rank_diseases(matched_diseases, user_symptoms)\n",
        "    ranked_diseases = get_user_feedback(ranked_diseases)\n",
        "    display_results(ranked_diseases)\n",
        "\n",
        "# Run the main function\n",
        "main()\n"
      ],
      "metadata": {
        "colab": {
          "base_uri": "https://localhost:8080/"
        },
        "id": "OV2VZu69MmHe",
        "outputId": "8b4c6dc9-fa7a-4891-aa77-ef566e74eb74",
        "collapsed": true
      },
      "execution_count": 2,
      "outputs": [
        {
          "name": "stdout",
          "output_type": "stream",
          "text": [
            "What are your symptoms? (separate with commas): fatigue, skin rash\n"
          ]
        },
        {
          "output_type": "stream",
          "name": "stderr",
          "text": [
            "<ipython-input-2-409d79dc3d7a>:31: SettingWithCopyWarning: \n",
            "A value is trying to be set on a copy of a slice from a DataFrame.\n",
            "Try using .loc[row_indexer,col_indexer] = value instead\n",
            "\n",
            "See the caveats in the documentation: https://pandas.pydata.org/pandas-docs/stable/user_guide/indexing.html#returning-a-view-versus-a-copy\n",
            "  matched_diseases['Score'] = matched_diseases.apply(lambda row: sum(1 for symptom in user_symptoms if any(symptom in row[col] for col in df.columns if 'Symptom' in col)), axis=1)\n",
            "<ipython-input-2-409d79dc3d7a>:33: SettingWithCopyWarning: \n",
            "A value is trying to be set on a copy of a slice from a DataFrame.\n",
            "Try using .loc[row_indexer,col_indexer] = value instead\n",
            "\n",
            "See the caveats in the documentation: https://pandas.pydata.org/pandas-docs/stable/user_guide/indexing.html#returning-a-view-versus-a-copy\n",
            "  matched_diseases['Score'] = pd.to_numeric(matched_diseases['Score']) # This line converts the 'Score' column to numeric type if it's not. This is important for sorting.\n"
          ]
        },
        {
          "output_type": "stream",
          "name": "stdout",
          "text": [
            "Disease: Glucagonoma\n",
            "Symptoms: ['heartburn', 'weakness', 'fatigue', 'muscle cramps', 'indigestion', 'diarrhea', 'weight loss', 'skin rash', 'constipation', 'pain in the abdomen or back', 'yellowing of the skin and the whites of the eyes', 'dizziness', 'blurred vision', 'headaches', 'increased thirst and hunger']\n",
            "Do you have these symptoms? (yes/no/maybe): no\n",
            "Disease: Fanconi anemia\n",
            "Symptoms: ['fatigue', 'shortness of breath', 'rapid or irregular heart rate', 'pale skin', 'frequent or prolonged infections', 'unexplained or easy bruising', 'nosebleeds and bleeding gums', 'prolonged bleeding from cuts', 'skin rash', 'dizziness', 'headache', 'fever']\n",
            "Do you have these symptoms? (yes/no/maybe): no\n",
            "Disease: Mononucleosis\n",
            "Symptoms: ['fatigue', \"sore throat perhaps misdiagnosed as strep throat that doesn't get better after treatment with antibiotics\", 'fever', 'swollen lymph nodes in your neck and armpits', 'swollen tonsils', 'headache', 'skin rash', 'soft swollen spleen']\n",
            "Do you have these symptoms? (yes/no/maybe): no\n",
            "Disease: Acute Kidney Failure\n",
            "Symptoms: ['decreased urine output', 'fluid retention', 'shortness of breath', 'fatigue', 'confusion', 'nausea', 'weakness', 'irregular heartbeat', 'chest pain or pressure', 'seizures or coma in severe cases']\n",
            "Do you have these symptoms? (yes/no/maybe): no\n",
            "Disease: Osteomyelitis\n",
            "Symptoms: ['fever', 'swelling warmth and redness over the area of the infection', 'pain in the area of the infection', 'fatigue']\n",
            "Do you have these symptoms? (yes/no/maybe): no\n",
            "Disease: Lymphoma\n",
            "Symptoms: ['fever', 'night sweats', 'fatigue', 'itchy skin', 'painless swelling of lymph nodes in the belly neck armpits or groin', 'pain in chest abdomen or bones', 'losing weight without trying']\n",
            "Do you have these symptoms? (yes/no/maybe): no\n",
            "Disease: Malaria\n",
            "Symptoms: ['fever', 'chills', 'general feeling of discomfort', 'headache', 'nausea and vomiting', 'diarrhea', 'abdominal pain', 'muscle or joint pain', 'fatigue', 'rapid breathing', 'rapid heart rate', 'cough']\n",
            "Do you have these symptoms? (yes/no/maybe): no\n",
            "Disease: Metabolic syndrome\n",
            "Symptoms: ['large waist circumference', 'increased thirst and urination', 'high blood sugar', 'fatigue', 'blurred vision']\n",
            "Do you have these symptoms? (yes/no/maybe): no\n",
            "Disease: Mitral valve disease\n",
            "Symptoms: ['fatigue', 'irregular heartbeat', 'shortness of breath', '`']\n",
            "Do you have these symptoms? (yes/no/maybe): no\n",
            "Disease: Multiple sclerosis\n",
            "Symptoms: ['numbness or weakness in one or more limbs that typically occurs on one side of your body at a time', 'tingling', 'electric-shock sensations that occur with certain neck movements especially bending the neck forward (lhermitte sign)', 'lack of coordination', 'unsteady gait or inability to walk', 'partial or complete loss of vision usually in one eye at a time often with pain during eye movement', 'prolonged double vision', 'blurry vision', 'vertigo', 'problems with sexual bowel and bladder function', 'fatigue', 'slurred speech', 'cognitive problems', 'mood disturbances']\n",
            "Do you have these symptoms? (yes/no/maybe): no\n",
            "Disease: Myelodysplastic syndromes\n",
            "Symptoms: ['fatigue', 'shortness of breath', 'unusual paleness (pallor) which occurs due to a low red blood cell count (anemia)', 'easy or unusual bruising or bleeding which occurs due to a low blood platelet count (thrombocytopenia)', 'pinpoint-sized red spots just beneath the skin that are caused by bleeding (petechiae)', 'frequent infections which occur due to a low white blood cell count (leukopenia)']\n",
            "Do you have these symptoms? (yes/no/maybe): no\n",
            "Disease: Myocarditis\n",
            "Symptoms: ['chest pain', 'fatigue', 'swelling of the legs ankles and feet', 'rapid or irregular heartbeats called arrhythmias', 'shortness of breath at rest or during activity', 'lightheadedness or feeling like you might faint', 'flu-like symptoms such as headache body aches joint pain fever or sore throat']\n",
            "Do you have these symptoms? (yes/no/maybe): no\n",
            "Disease: Nephrotic syndrome\n",
            "Symptoms: ['severe swelling (edema) particularly around your eyes and in your ankles and feet', 'foamy urine a result of excess protein in your urine', 'weight gain due to fluid retention', 'fatigue', 'loss of appetite']\n",
            "Do you have these symptoms? (yes/no/maybe): no\n",
            "Disease: Nonalcoholic fatty liver disease\n",
            "Symptoms: ['fatigue', 'not feeling well or malaise', 'pain or discomfort in the upper right belly area', 'itchy skin', 'abdominal swelling also called ascites (uh-sy-teez)', 'shortness of breath', 'swelling of the legs', \"spider-like blood vessels just beneath the skin's surface\", 'enlarged spleen', 'red palms', 'yellowing of the skin and eyes or jaundice']\n",
            "Do you have these symptoms? (yes/no/maybe): no\n",
            "Disease: Ovarian cancer\n",
            "Symptoms: ['abdominal bloating or swelling', 'quickly feeling full when eating', 'weight loss', 'discomfort in the pelvic area', 'fatigue', 'back pain', 'changes in bowel habits such as constipation', 'a frequent need to urinate']\n",
            "Do you have these symptoms? (yes/no/maybe): no\n",
            "Disease: Low blood pressure (hypotension)\n",
            "Symptoms: ['blurred or fading vision', 'dizziness or lightheadedness', 'fainting', 'fatigue', 'trouble concentrating', 'nausea']\n",
            "Do you have these symptoms? (yes/no/maybe): no\n",
            "Disease: Polymyalgia rheumatica\n",
            "Symptoms: ['aches or pain in your shoulders', 'aches or pain in your neck upper arms buttocks hips or thighs', 'stiffness in affected areas particularly in the morning or after being inactive for a time', 'limited range of motion in affected areas', 'pain or stiffness in your wrists elbows or knees', 'mild fever', 'fatigue', 'a general feeling of not being well (malaise)', 'loss of appetite', 'unintended weight loss', 'depression']\n",
            "Do you have these symptoms? (yes/no/maybe): no\n",
            "Disease: Primary sclerosing cholangitis\n",
            "Symptoms: ['fatigue', 'itching', 'yellow eyes and skin (jaundice)', 'abdominal pain', 'fever', 'chills', 'night sweats', 'enlarged liver', 'enlarged spleen', 'weight loss']\n",
            "Do you have these symptoms? (yes/no/maybe): no\n",
            "Disease: Pulmonary Hypertension\n",
            "Symptoms: ['shortness of breath at first while exercising and eventually while at rest', 'blue or gray skin color due to low oxygen levels depending on your skin color these changes may be harder or easier to see', 'chest pressure or pain', 'dizziness or fainting spells', 'dizziness or fainting spells', 'fatigue', 'swelling in the ankles legs and belly area']\n",
            "Do you have these symptoms? (yes/no/maybe): no\n",
            "Disease: Rheumatic fever\n",
            "Symptoms: ['fever', 'joint pain or swelling — most often the knees ankles elbows and wrists joints may feel hot or tender', 'pain in one joint that travels to another joint', 'chest pain', 'fatigue', 'small painless bumps beneath the skin', 'flat or slightly raised painless rash with a ragged edge', 'jerky uncontrollable body movements most often in the hands feet and face', 'outbursts of crying or inappropriate laughing']\n",
            "Do you have these symptoms? (yes/no/maybe): no\n",
            "Disease: Sarcoidosis\n",
            "Symptoms: ['fatigue', 'swollen lymph nodes', 'weight loss', 'pain and swelling in joints such as the ankles', 'persistent dry cough', 'shortness of breath', 'wheezing', 'chest pain', 'a rash of red or reddish-purple bumps usually located on the shins or ankles which may be warm and tender to the touch', 'disfiguring sores (lesions) on the nose cheeks and ears', 'areas of skin that are darker or lighter in color', 'growths under the skin (nodules) particularly around scars or tattoos', 'blurred vision', 'eye pain', 'burning itching or dry eyes', 'severe redness', 'sensitivity to light']\n",
            "Do you have these symptoms? (yes/no/maybe): no\n",
            "Disease: Systemic lupus erythematosus (SLE)\n",
            "Symptoms: ['fatigue', 'fever', 'joint pain stiffness and swelling', 'butterfly-shaped rash on the face that covers the cheeks and bridge of the nose or rashes elsewhere on the body', 'skin lesions that appear or worsen with sun exposure', 'fingers and toes that turn white or blue when exposed to cold or during stressful periods', 'shortness of breath', 'shortness of breath', 'dry eyes', 'headaches confusion and memory loss']\n",
            "Do you have these symptoms? (yes/no/maybe): no\n",
            "Disease: Thalassemia\n",
            "Symptoms: ['fatigue', 'weakness', 'pale or yellowish skin', 'facial bone deformities', 'slow growth', 'abdominal swelling', 'dark urine']\n",
            "Do you have these symptoms? (yes/no/maybe): no\n",
            "Disease: Thrombocytopenia\n",
            "Symptoms: ['easy or excessive bruising (purpura)', 'superficial bleeding into the skin that appears as a rash of pinpoint-sized reddish-purple spots (petechiae) usually on the lower legs', 'prolonged bleeding from cuts', 'bleeding from your gums or nose', 'blood in urine or stools', 'unusually heavy menstrual flows', 'fatigue', 'enlarged spleen']\n",
            "Do you have these symptoms? (yes/no/maybe): no\n",
            "Disease: Ulcerative Colitis\n",
            "Symptoms: ['diarrhea often with blood or pus', 'rectal bleeding — passing small amount of blood with stool\\n', 'abdominal pain and cramping', 'rectal pain', 'urgency to defecate\\n', 'inability to defecate despite urgency', 'weight loss', 'fatigue', 'fever', 'in children failure to grow']\n",
            "Do you have these symptoms? (yes/no/maybe): no\n",
            "Disease: Waldenstrom Macroglobulinemia\n",
            "Symptoms: ['fatigue', 'fever', 'weight loss\\n', 'night sweats', 'numbness in the hands or feet', 'swollen lymph nodes', 'a feeling of pain or fullness under the ribs on your left side which may be caused by an enlarged spleen\\n', 'easy bruising', 'bleeding nose or gums', 'headache', 'shortness of breath', 'changes in vision', 'confusion']\n",
            "Do you have these symptoms? (yes/no/maybe): no\n",
            "Disease: Wegener's Granulomatosis\n",
            "Symptoms: ['pus-like drainage with crusts from your nose stuffiness sinus infections and nosebleeds', 'coughing sometimes with bloody phlegm', 'shortness of breath or wheezing', 'fever', 'fatigue', 'joint pain', 'numbness in your limbs fingers or toes', 'weight loss', 'blood in your urine', 'skin sores bruising or rashes', 'eye redness burning or pain and vision problems', 'ear inflammation and hearing problems']\n",
            "Do you have these symptoms? (yes/no/maybe): no\n",
            "Disease: Whipple's Disease\n",
            "Symptoms: ['diarrhea', 'stomach cramping and pain which may worsen after meals', 'weight loss associated with the malabsorption of nutrients', 'inflamed joints particularly the ankles knees and wrists\\n', 'fatigue', 'weakness', 'anemia', 'fever', 'cough\\n', 'enlarged lymph nodes', 'skin darkening in areas exposed to the sun and in scars', 'chest pain', 'difficulty walking', 'vision problems including lack of control of eye movements', 'confusion', 'memory loss']\n",
            "Do you have these symptoms? (yes/no/maybe): no\n",
            "Disease: Lupus\n",
            "Symptoms: ['fatigue', 'fever', 'joint pain stiffness and swelling', 'butterfly-shaped rash on the face that covers the cheeks and bridge of the nose or rashes elsewhere on the body', 'skin lesions that appear or worsen with sun exposure', 'fingers and toes that turn white or blue when exposed to cold or during stressful periods', 'shortness of breath', 'chest pain', 'dry eyes', 'headaches confusion and memory loss']\n",
            "Do you have these symptoms? (yes/no/maybe): yes\n",
            "Disease: Granulomatosis with polyangiitis\n",
            "Symptoms: ['pus-like drainage with crusts from your nose stuffiness sinus infections and nosebleeds', 'coughing sometimes with bloody phlegm', 'shortness of breath or wheezing', 'fever', 'fatigue', 'joint pain', 'numbness in your limbs fingers or toes', 'weight loss', 'blood in your urine', 'skin sores bruising or rashes', 'eye redness burning or pain and vision problems', 'ear inflammation and hearing problems']\n",
            "Do you have these symptoms? (yes/no/maybe): no\n",
            "Disease: AIDS/HIV\n",
            "Symptoms: ['fever', 'fatigue', 'swollen lymph glands', 'diarrhea', 'weight loss', 'oral yeast infection (thrush)', 'shingles (herpes zoster)', 'pneumonia', 'sweats', 'chills', 'constant white spots or lesions on the tongue or in the mouth', 'constant fatigue', 'weakness', 'rapid weight loss', 'skin rashes or bumps']\n",
            "Do you have these symptoms? (yes/no/maybe): no\n",
            "Disease: Glomerulonephritis\n",
            "Symptoms: ['pink or cola-colored urine from red blood cells in your urine (hematuria)', 'foamy or bubbly urine due to excess protein in the urine (proteinuria)', 'high blood pressure (hypertension)', 'fluid retention (edema) with swelling evident in your face hands feet and abdomen', 'urinating less than usual', 'nausea and vomiting', 'muscle cramps', 'fatigue']\n",
            "Do you have these symptoms? (yes/no/maybe): no\n",
            "Disease: Anemia\n",
            "Symptoms: ['fatigue', 'weakness', 'pale or yellowish skin', 'irregular heartbeats', 'shortness of breath', 'dizziness or lightheadedness', 'chest pain', 'cold hands and feet', 'headaches']\n",
            "Do you have these symptoms? (yes/no/maybe): no\n",
            "Disease: Angina\n",
            "Symptoms: ['chest pain or discomfort', 'pain in your arms neck jaw shoulder or back', 'nausea', 'fatigue', 'shortness of breath', 'sweating', 'dizziness']\n",
            "Do you have these symptoms? (yes/no/maybe): no\n",
            "Disease: Ankylosing Spondylitis\n",
            "Symptoms: ['pain and stiffness in the lower back and hips especially in the morning and after periods of inactivity', 'neck pain', 'fatigue', 'reduced flexibility in the spine over time which can result in a hunched-forward posture', 'pain and swelling in other parts of the body such as shoulders knees and ankles']\n",
            "Do you have these symptoms? (yes/no/maybe): no\n",
            "Disease: Atherosclerosis\n",
            "Symptoms: ['chest pain or angina', 'pain in the leg arm and anywhere else that has a blocked artery', 'shortness of breath', 'fatigue', 'confusion which occurs if the blockage affects circulation to the brain', 'muscle weakness in the legs from lack of circulation']\n",
            "Do you have these symptoms? (yes/no/maybe): no\n",
            "Disease: Atrial Fibrillation\n",
            "Symptoms: ['palpitations which are sensations of a fast fluttering or pounding heartbeat', 'weakness', 'reduced ability to exercise', 'fatigue', 'lightheadedness', 'dizziness', 'shortness of breath', 'chest pain']\n",
            "Do you have these symptoms? (yes/no/maybe): no\n",
            "Disease: Autoimmune Hepatitis\n",
            "Symptoms: ['fatigue', 'abdominal discomfort', 'joint pain', 'yellowing of the skin and eyes (jaundice)', 'an enlarged liver', 'abnormal blood vessels on the skin (spider angiomas)', 'skin rashes', 'loss of menstrual periods', 'loss of appetite', 'nausea and vomiting']\n",
            "Do you have these symptoms? (yes/no/maybe): no\n",
            "Disease: Bone Cancer\n",
            "Symptoms: ['bone pain', 'swelling and tenderness near the affected area', 'broken bone', 'fatigue', 'unintended weight loss']\n",
            "Do you have these symptoms? (yes/no/maybe): no\n",
            "Disease: Bronchitis\n",
            "Symptoms: ['cough', 'production of mucus (sputum) which can be clear white yellowish-gray or green in color â€” rarely it may be streaked with blood', 'fatigue', 'shortness of breath', 'slight fever and chills', 'chest discomfort']\n",
            "Do you have these symptoms? (yes/no/maybe): no\n",
            "Disease: Cancer\n",
            "Symptoms: ['fatigue', 'lump or area of thickening that can be felt under the skin', 'weight changes including unintended loss or gain', \"skin changes such as yellowing darkening or redness of the skin sores that won't heal or changes to existing moles\", 'changes in bowel or bladder habits', 'persistent cough or trouble breathing', 'difficulty swallowing', 'hoarseness', 'persistent indigestion or discomfort after eating', 'persistent unexplained muscle or joint pain', 'persistent unexplained fevers or night sweats', 'unexplained bleeding or bruising']\n",
            "Do you have these symptoms? (yes/no/maybe): no\n",
            "Disease: Celiac Disease\n",
            "Symptoms: ['diarrhea', 'fatigue', 'weight loss', 'bloating and gas', 'abdominal pain', 'nausea and vomiting', 'constipation']\n",
            "Do you have these symptoms? (yes/no/maybe): no\n",
            "Disease: Chronic Bronchitis\n",
            "Symptoms: ['cough', 'production of mucus (sputum) which can be clear white yellowish-gray or green', 'fatigue', 'shortness of breath', 'slight fever and chills', 'chest discomfort']\n",
            "Do you have these symptoms? (yes/no/maybe): noo\n",
            "Disease: Chronic Fatigue Syndrome\n",
            "Symptoms: ['fatigue', 'loss of memory or concentration', 'sore throat', 'enlarged lymph nodes in your neck or armpits', 'unexplained muscle or joint pain', 'headaches', 'unrefreshing sleep', 'extreme exhaustion after physical or mental exercise']\n",
            "Do you have these symptoms? (yes/no/maybe): no\n",
            "Disease: Cirrhosis\n",
            "Symptoms: ['fatigue', 'easily bleeding or bruising', 'loss of appetite', 'nausea', 'swelling in your legs feet or ankles (edema)', 'weight loss', 'itchy skin', 'yellow discoloration in your skin and eyes (jaundice)', 'fluid accumulation in your abdomen (ascites)', 'spiderlike blood vessels on your skin', 'redness in the palms of your hands', 'for women absent or loss of periods not related to menopause', 'for men loss of sex drive breast enlargement (gynecomastia) or testicular atrophy', 'confusion drowsiness and slurred speech (hepatic encephalopathy)']\n",
            "Do you have these symptoms? (yes/no/maybe): no\n",
            "Disease: COVID-19\n",
            "Symptoms: ['fever or chills', 'cough', 'shortness of breath or difficulty breathing', 'fatigue', 'muscle or body aches', 'headache', 'new loss of taste or smell', 'sore throat', 'congestion or runny nose', 'nausea or vomiting', 'diarrhea']\n",
            "Do you have these symptoms? (yes/no/maybe): no\n",
            "Disease: Crohn's Disease\n",
            "Symptoms: ['diarrhea', 'fever', 'fatigue', 'abdominal pain and cramping', 'blood in your stool', 'mouth sores', 'reduced appetite and weight loss', 'pain or drainage near or around the anus due to inflammation from a tunnel into the skin (fistula)']\n",
            "Do you have these symptoms? (yes/no/maybe): no\n",
            "Disease: Cushing Syndrome\n",
            "Symptoms: ['weight gain and fatty tissue deposits particularly around the midsection and upper back in the face (moon face) and between the shoulders (buffalo hump)', 'pink or purple stretch marks (striae) on the skin of the abdomen thighs breasts and arms', 'thinning fragile skin that bruises easily', 'slow healing of cuts insect bites and infections', 'acne', 'fatigue', 'muscle weakness', 'depression anxiety and irritability', 'loss of emotional control', 'cognitive difficulties', 'new or worsened high blood pressure', 'glucose intolerance that may lead to diabetes', 'headache', 'bone loss leading to fractures over time']\n",
            "Do you have these symptoms? (yes/no/maybe): no\n",
            "Disease: Cytomegalovirus (CMV) Infection\n",
            "Symptoms: ['fatigue', 'fever', 'sore throat', 'muscle aches', 'vision loss due to retinitis', 'digestive system issues like colitis esophagitis and hepatitis', 'nervous system issues like encephalitis', 'pneumonia', 'premature birth', 'low birth weight', 'yellow skin and eyes (jaundice)', 'enlarged and poorly functioning liver', 'purple skin splotches or rash', 'seizures', 'hearing loss', 'intellectual disabilities', 'vision problems', 'lack of coordination', 'weakness or issues using muscles']\n",
            "Do you have these symptoms? (yes/no/maybe): no\n",
            "Disease: Dehydration\n",
            "Symptoms: ['extreme thirst', 'less frequent urination', 'dark-colored urine', 'fatigue', 'dizziness', 'confusion', 'dry mouth and skin', 'rapid heartbeat', 'rapid breathing', 'sunken eyes', \"shriveled and dry skin that lacks elasticity and doesn't bounce back when pinched into a fold\", 'low blood pressure', 'fever', 'in severe cases delirium or unconsciousness']\n",
            "Do you have these symptoms? (yes/no/maybe): no\n",
            "Disease: Diabetes\n",
            "Symptoms: ['increased thirst', 'frequent urination', 'extreme hunger', 'unexplained weight loss', \"presence of ketones in the urine (ketones are a byproduct of the breakdown of muscle and fat that happens when there's not enough available insulin)\", 'fatigue', 'irritability', 'blurred vision', 'slow-healing sores', 'frequent infections such as gums or skin infections and vaginal infections']\n",
            "Do you have these symptoms? (yes/no/maybe): no\n",
            "Disease: Ebola virus and Marburg virus\n",
            "Symptoms: ['fever', 'severe headache', 'muscle pain', 'weakness', 'fatigue', 'diarrhea', 'vomiting', 'abdominal (stomach) pain', 'unexplained hemorrhaging (bleeding or bruising)']\n",
            "Do you have these symptoms? (yes/no/maybe): no\n",
            "Disease: Fibromyalgia\n",
            "Symptoms: ['widespread pain', 'fatigue', \"cognitive difficulties (often referred to as 'fibro fog')\", 'sleep disturbances', 'depression and anxiety', 'headaches', 'irritable bowel syndrome (ibs)', 'painful menstrual periods']\n",
            "Do you have these symptoms? (yes/no/maybe): no\n",
            "Disease: Germ cell tumors\n",
            "Symptoms: ['headache', 'vomiting', 'fatigue', 'feeling irritable', 'double vision and blurry vision', 'trouble looking up or focusing on close objects', 'coordination and balance issues']\n",
            "Do you have these symptoms? (yes/no/maybe): no\n",
            "Disease: Giardia infection (giardiasis)\n",
            "Symptoms: ['watery sometimes foul-smelling diarrhea that may alternate with soft greasy stools', 'fatigue', 'stomach cramps and bloating', 'gas', 'nausea', 'weight loss']\n",
            "Do you have these symptoms? (yes/no/maybe): no\n",
            "Disease: Wolff-Parkinson-White Syndrome\n",
            "Symptoms: ['heart rate greater than 100 beats a minute', 'rapid fluttering or pounding heartbeats', 'chest pain', 'difficulty breathing', 'dizziness or lightheadedness', 'fainting', 'fatigue', 'shortness of breath', 'anxiety', 'blue or gray skin lips and nails these changes may be harder or easier to see depending on skin color', 'restlessness or irritability', 'rapid breathing', 'poor eating']\n",
            "Do you have these symptoms? (yes/no/maybe): no\n",
            "Final Results:\n",
            "Disease: Glucagonoma - Probability Score: 2\n",
            "Disease: Fanconi anemia - Probability Score: 2\n",
            "Disease: Mononucleosis - Probability Score: 2\n",
            "Disease: Acute Kidney Failure - Probability Score: 1\n",
            "Disease: Osteomyelitis - Probability Score: 1\n",
            "Disease: Lymphoma - Probability Score: 1\n",
            "Disease: Malaria - Probability Score: 1\n",
            "Disease: Metabolic syndrome - Probability Score: 1\n",
            "Disease: Mitral valve disease - Probability Score: 1\n",
            "Disease: Multiple sclerosis - Probability Score: 1\n",
            "Disease: Myelodysplastic syndromes - Probability Score: 1\n",
            "Disease: Myocarditis - Probability Score: 1\n",
            "Disease: Nephrotic syndrome - Probability Score: 1\n",
            "Disease: Nonalcoholic fatty liver disease - Probability Score: 1\n",
            "Disease: Ovarian cancer - Probability Score: 1\n",
            "Disease: Low blood pressure (hypotension) - Probability Score: 1\n",
            "Disease: Polymyalgia rheumatica - Probability Score: 1\n",
            "Disease: Primary sclerosing cholangitis - Probability Score: 1\n",
            "Disease: Pulmonary Hypertension - Probability Score: 1\n",
            "Disease: Rheumatic fever - Probability Score: 1\n",
            "Disease: Sarcoidosis - Probability Score: 1\n",
            "Disease: Systemic lupus erythematosus (SLE) - Probability Score: 1\n",
            "Disease: Thalassemia - Probability Score: 1\n",
            "Disease: Thrombocytopenia - Probability Score: 1\n",
            "Disease: Ulcerative Colitis - Probability Score: 1\n",
            "Disease: Waldenstrom Macroglobulinemia - Probability Score: 1\n",
            "Disease: Wegener's Granulomatosis - Probability Score: 1\n",
            "Disease: Whipple's Disease - Probability Score: 1\n",
            "Disease: Lupus - Probability Score: 1\n",
            "Disease: Granulomatosis with polyangiitis - Probability Score: 1\n",
            "Disease: AIDS/HIV - Probability Score: 1\n",
            "Disease: Glomerulonephritis - Probability Score: 1\n",
            "Disease: Anemia - Probability Score: 1\n",
            "Disease: Angina - Probability Score: 1\n",
            "Disease: Ankylosing Spondylitis - Probability Score: 1\n",
            "Disease: Atherosclerosis - Probability Score: 1\n",
            "Disease: Atrial Fibrillation - Probability Score: 1\n",
            "Disease: Autoimmune Hepatitis - Probability Score: 1\n",
            "Disease: Bone Cancer - Probability Score: 1\n",
            "Disease: Bronchitis - Probability Score: 1\n",
            "Disease: Cancer - Probability Score: 1\n",
            "Disease: Celiac Disease - Probability Score: 1\n",
            "Disease: Chronic Bronchitis - Probability Score: 1\n",
            "Disease: Chronic Fatigue Syndrome - Probability Score: 1\n",
            "Disease: Cirrhosis - Probability Score: 1\n",
            "Disease: COVID-19 - Probability Score: 1\n",
            "Disease: Crohn's Disease - Probability Score: 1\n",
            "Disease: Cushing Syndrome - Probability Score: 1\n",
            "Disease: Cytomegalovirus (CMV) Infection - Probability Score: 1\n",
            "Disease: Dehydration - Probability Score: 1\n",
            "Disease: Diabetes - Probability Score: 1\n",
            "Disease: Ebola virus and Marburg virus - Probability Score: 1\n",
            "Disease: Fibromyalgia - Probability Score: 1\n",
            "Disease: Germ cell tumors - Probability Score: 1\n",
            "Disease: Giardia infection (giardiasis) - Probability Score: 1\n",
            "Disease: Wolff-Parkinson-White Syndrome - Probability Score: 1\n"
          ]
        }
      ]
    },
    {
      "cell_type": "code",
      "source": [
        "%%bash\n",
        "rm -r sample_data"
      ],
      "metadata": {
        "id": "nP6RrA_Df0zc"
      },
      "execution_count": 1,
      "outputs": []
    },
    {
      "cell_type": "code",
      "source": [
        "%%bash\n",
        "cat > .gitignore\n",
        ".*\n",
        ".gitignore"
      ],
      "metadata": {
        "id": "EAFuz6DTgJ09"
      },
      "execution_count": 2,
      "outputs": []
    },
    {
      "cell_type": "code",
      "source": [
        "%%bash\n",
        "git config --global user.email \"caijalen1@gmail.com\"\n",
        "git config --global user.name \"Jalen Cai\""
      ],
      "metadata": {
        "id": "GcHe-T9jgVQW"
      },
      "execution_count": 3,
      "outputs": []
    },
    {
      "cell_type": "code",
      "source": [
        "%%bash\n",
        "git init"
      ],
      "metadata": {
        "colab": {
          "base_uri": "https://localhost:8080/"
        },
        "id": "lFyFPtpVgd83",
        "outputId": "b52379fa-395d-491a-edbf-595b693cc16d"
      },
      "execution_count": 4,
      "outputs": [
        {
          "output_type": "stream",
          "name": "stdout",
          "text": [
            "Initialized empty Git repository in /content/.git/\n"
          ]
        },
        {
          "output_type": "stream",
          "name": "stderr",
          "text": [
            "hint: Using 'master' as the name for the initial branch. This default branch name\n",
            "hint: is subject to change. To configure the initial branch name to use in all\n",
            "hint: of your new repositories, which will suppress this warning, call:\n",
            "hint: \n",
            "hint: \tgit config --global init.defaultBranch <name>\n",
            "hint: \n",
            "hint: Names commonly chosen instead of 'master' are 'main', 'trunk' and\n",
            "hint: 'development'. The just-created branch can be renamed via this command:\n",
            "hint: \n",
            "hint: \tgit branch -m <name>\n"
          ]
        }
      ]
    },
    {
      "cell_type": "code",
      "source": [
        "%%bash\n",
        "git add -A"
      ],
      "metadata": {
        "id": "6ZP1lQDOgkjI"
      },
      "execution_count": 5,
      "outputs": []
    },
    {
      "cell_type": "code",
      "source": [
        "%%bash\n",
        "git commit -m \"Added a database directory and database file.\""
      ],
      "metadata": {
        "colab": {
          "base_uri": "https://localhost:8080/"
        },
        "id": "eUpIwQLnhudT",
        "outputId": "fae377fe-2554-417a-d945-f9efad05703a"
      },
      "execution_count": 6,
      "outputs": [
        {
          "output_type": "stream",
          "name": "stdout",
          "text": [
            "[master (root-commit) c3d7332] Added a database directory and database file.\n",
            " 1 file changed, 417 insertions(+)\n",
            " create mode 100644 Database/Genki_DB - Sheet1 (1).csv\n"
          ]
        }
      ]
    },
    {
      "cell_type": "code",
      "source": [
        "%%bash\n",
        "rm -r ~/.ssh/id_ed25519\n",
        "ssh-keygen -t ed25519 -C '[caijalen1@gmail.com]' -f ~/.ssh/id_ed25519 -P ''\n",
        "cat > ~/.ssh/config\n",
        "Host *\n",
        "  AddKeysToAgent yes\n",
        "  IdentityFile ~/.ssh/id_ed25519"
      ],
      "metadata": {
        "colab": {
          "base_uri": "https://localhost:8080/"
        },
        "id": "s24Nkp4Ah47v",
        "outputId": "c5798f76-1255-49d2-83d3-b971f93335ca"
      },
      "execution_count": 7,
      "outputs": [
        {
          "output_type": "stream",
          "name": "stdout",
          "text": [
            "Generating public/private ed25519 key pair.\n",
            "Your identification has been saved in /root/.ssh/id_ed25519\n",
            "Your public key has been saved in /root/.ssh/id_ed25519.pub\n",
            "The key fingerprint is:\n",
            "SHA256:ymluC+zdA/zhO6AIQI0ykGVhmmtCP1Nwp7R/A/wNiuo [caijalen1@gmail.com]\n",
            "The key's randomart image is:\n",
            "+--[ED25519 256]--+\n",
            "|ooBo o .         |\n",
            "|+B .+ =          |\n",
            "|=o   + o .       |\n",
            "|o.. . o + o      |\n",
            "|+. + o oS+ .     |\n",
            "|+  .+.+oo .      |\n",
            "| . oo.== .       |\n",
            "|  o..=..=        |\n",
            "|   E..+.o+       |\n",
            "+----[SHA256]-----+\n"
          ]
        },
        {
          "output_type": "stream",
          "name": "stderr",
          "text": [
            "rm: cannot remove '/root/.ssh/id_ed25519': No such file or directory\n",
            "Created directory '/root/.ssh'.\r\n"
          ]
        }
      ]
    },
    {
      "cell_type": "code",
      "source": [
        "%%bash\n",
        "eval \"$(ssh-agent -s)\"\n",
        "ssh-add ~/.ssh/id_ed25519"
      ],
      "metadata": {
        "colab": {
          "base_uri": "https://localhost:8080/"
        },
        "id": "WxVL_O9Rh8Tu",
        "outputId": "9a600bca-25ce-4be9-bf62-d7113f8dfffa"
      },
      "execution_count": 8,
      "outputs": [
        {
          "output_type": "stream",
          "name": "stdout",
          "text": [
            "Agent pid 3758\n"
          ]
        },
        {
          "output_type": "stream",
          "name": "stderr",
          "text": [
            "Identity added: /root/.ssh/id_ed25519 ([caijalen1@gmail.com])\n"
          ]
        }
      ]
    },
    {
      "cell_type": "code",
      "source": [
        "%%bash\n",
        "cat ~/.ssh/id_ed25519.pub"
      ],
      "metadata": {
        "colab": {
          "base_uri": "https://localhost:8080/"
        },
        "id": "0Aem0bMkiA6r",
        "outputId": "4d1f329c-a626-459f-eafe-cbab5f62c21a"
      },
      "execution_count": 9,
      "outputs": [
        {
          "output_type": "stream",
          "name": "stdout",
          "text": [
            "ssh-ed25519 AAAAC3NzaC1lZDI1NTE5AAAAIAsTr43wrzNsT6m/Yoq8Px1IYiw46/6Kutv82aZAYLgd [caijalen1@gmail.com]\n"
          ]
        }
      ]
    },
    {
      "cell_type": "code",
      "source": [
        "%%bash\n",
        "ssh -o \"StrictHostKeyChecking no\" -T git@github.com | exit 0"
      ],
      "metadata": {
        "colab": {
          "base_uri": "https://localhost:8080/"
        },
        "id": "G573vTU2iI1P",
        "outputId": "f8154901-49a7-434d-95c7-e303d81e3fa6"
      },
      "execution_count": 10,
      "outputs": [
        {
          "output_type": "stream",
          "name": "stderr",
          "text": [
            "Warning: Permanently added 'github.com' (ED25519) to the list of known hosts.\r\n",
            "Hi JalenCai! You've successfully authenticated, but GitHub does not provide shell access.\n"
          ]
        }
      ]
    },
    {
      "cell_type": "code",
      "source": [
        "%%bash\n",
        "git remote add origin git@github.com:JalenCai/Sympify-AI.git\n",
        "git branch -M main\n",
        "git push -u origin main"
      ],
      "metadata": {
        "colab": {
          "base_uri": "https://localhost:8080/"
        },
        "id": "5VO8wHYwidyH",
        "outputId": "e3b5e5f7-196e-4427-dfe5-cee0421f24d6"
      },
      "execution_count": 11,
      "outputs": [
        {
          "output_type": "stream",
          "name": "stdout",
          "text": [
            "Branch 'main' set up to track remote branch 'main' from 'origin'.\n"
          ]
        },
        {
          "output_type": "stream",
          "name": "stderr",
          "text": [
            "To github.com:JalenCai/Sympify-AI.git\n",
            " * [new branch]      main -> main\n"
          ]
        }
      ]
    }
  ]
}